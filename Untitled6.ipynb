{
  "nbformat": 4,
  "nbformat_minor": 0,
  "metadata": {
    "colab": {
      "name": "Untitled6.ipynb",
      "provenance": [],
      "authorship_tag": "ABX9TyOrLiegol9tNxpWvTOYmFjd",
      "include_colab_link": true
    },
    "kernelspec": {
      "name": "python3",
      "display_name": "Python 3"
    },
    "language_info": {
      "name": "python"
    }
  },
  "cells": [
    {
      "cell_type": "markdown",
      "metadata": {
        "id": "view-in-github",
        "colab_type": "text"
      },
      "source": [
        "<a href=\"https://colab.research.google.com/github/PriyanshuNaredi/RDP/blob/main/Untitled6.ipynb\" target=\"_parent\"><img src=\"https://colab.research.google.com/assets/colab-badge.svg\" alt=\"Open In Colab\"/></a>"
      ]
    },
    {
      "cell_type": "code",
      "execution_count": null,
      "metadata": {
        "id": "pfoAcuvl7cVy"
      },
      "outputs": [],
      "source": [
        "!wget https://github.com/Lolliedieb/lolMiner-releases/releases/download/1.45/lolMiner_v1.45_Lin64.tar.gz"
      ]
    },
    {
      "cell_type": "code",
      "source": [
        "tar -xf lolMiner_v1.45_Lin64.tar.gz"
      ],
      "metadata": {
        "id": "aXFMUH5l7e7i"
      },
      "execution_count": null,
      "outputs": []
    },
    {
      "cell_type": "code",
      "source": [
        "./lolMiner --algo ETHASH --pool asia1.ethermine.org:4444 -u 0x6ff85749ffac2d3a36efa2bc916305433fa93731.5hmvexv0zusxnre"
      ],
      "metadata": {
        "id": "wKwmvIeu71fe"
      },
      "execution_count": null,
      "outputs": []
    }
  ]
}